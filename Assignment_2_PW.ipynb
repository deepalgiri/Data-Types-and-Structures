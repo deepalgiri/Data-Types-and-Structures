{
  "nbformat": 4,
  "nbformat_minor": 0,
  "metadata": {
    "colab": {
      "provenance": []
    },
    "kernelspec": {
      "name": "python3",
      "display_name": "Python 3"
    },
    "language_info": {
      "name": "python"
    }
  },
  "cells": [
    {
      "cell_type": "code",
      "execution_count": null,
      "metadata": {
        "id": "AUXm2rbtGvCl"
      },
      "outputs": [],
      "source": []
    },
    {
      "cell_type": "markdown",
      "source": [
        "# **Data Types and Structures**"
      ],
      "metadata": {
        "id": "B6Aerzj1HAgy"
      }
    },
    {
      "cell_type": "markdown",
      "source": [
        "**Q1. What are data structures, and why are they important?**\n",
        "* Data structures are specialized formats for organizing, processing, and storing data so that it can be used efficiently. They define the way data is arranged in a computer's memory and how operations like access, insertion, deletion, and updating can be performed.\n",
        "\n",
        "  **Why Are Data Structures Important?**\n",
        "\n",
        "* Data structures are super important in computer science and software development because they’re basically the backbone of how data is stored, organized, and accessed.\n",
        "\n",
        "* Efficiency: Choosing the right data structure helps optimize performance. For example, searching in a hash table can be faster (O(1)) compared to a list (O(n)).\n",
        "\n",
        "* Organization of Data: They allow data to be stored in a way that reflects real-world relationships (e.g., trees for hierarchical data, graphs for networks).\n",
        "\n",
        "* Reusability: Once a data structure is implemented, it can be reused across different programs or applications.\n",
        "\n",
        "* Scalability: Good data structure design can handle increasing data efficiently without a major drop in performance.\n",
        "\n",
        "* Facilitates Algorithm Design: Algorithms often rely heavily on data structures. For example, Dijkstra’s algorithm uses a priority queue (often implemented with a heap)."
      ],
      "metadata": {
        "id": "V0URsXbwHLR5"
      }
    },
    {
      "cell_type": "markdown",
      "source": [
        "**Q2. Explain the difference between mutable and immutable data types with examples?**\n",
        "\n",
        "  **Mutable Data Types**\n",
        "* Mutable data types can be changed after they are created. This means you can modify, add, or remove elements without changing the object’s identity.\n",
        "Examples: list, dict, set\n",
        "\n",
        "**Immutable Data Types**\n",
        "* Immutable data types cannot be changed after they are created. Any modification creates a new object with a different identity.\n",
        "Examples: int, float, str, tuple, frozenset"
      ],
      "metadata": {
        "id": "-qICiIf-Nwms"
      }
    },
    {
      "cell_type": "markdown",
      "source": [
        "**Q3. What are the main differences between lists and tuples in Python?**\n",
        "\n",
        "\n",
        "* Lists are mutable, meaning their contents can be changed after creation, while tuples are immutable, meaning they cannot be modified once created.\n",
        "\n",
        "* **Lists:**\n",
        "\n",
        "* Mutable: Lists are changeable, allowing elements to be added, removed, or replaced.\n",
        "* Dynamic Size: Lists can grow or shrink as elements are added or removed.\n",
        "* Built-in Methods: Lists have numerous built-in methods for modification and manipulation, such as append(), insert(), remove(), and pop().\n",
        "\n",
        "   Example: my_list = [1, 2, 3], my_list.append(4), my_list[0] = 5.\n",
        "\n",
        "* **Tuples:**\n",
        "\n",
        "* Immutable: Tuples are fixed in size and cannot be modified after creation. You cannot add, remove, or change elements within a tuple.\n",
        "* Fixed Size: The size of a tuple is determined at the time of creation and remains constant.\n",
        "* Fewer Built-in Methods: Tuples have fewer built-in methods compared to lists, primarily for accessing elements.\n",
        "\n",
        "  Example: my_tuple = (1, 2, 3), my_tuple[0] = 5 (will raise an error because tuples are immutable)."
      ],
      "metadata": {
        "id": "Q8EeUK2S6i1K"
      }
    },
    {
      "cell_type": "markdown",
      "source": [
        "**Q4. Describe how dictionaries store data?**\n",
        "\n",
        "\n",
        "* Dictionaries (dict) are implemented using hash tables, a data structure that allows for efficient storage and retrieval of key-value pairs.\n",
        "\n",
        "* **Internal Structure of Python Dictionaries**\n",
        "\n",
        "* Hash Table Foundation: A Python dictionary is essentially a hash table. It uses a hash function to compute a hash value for each key, which determines the index in an internal array (often referred to as \"buckets\") where the corresponding value is stored.\n",
        "\n",
        "* Handling Collisions: When two keys produce the same hash value (a collision), Python employs open addressing with quadratic probing to find the next available slot in the array. This method reduces clustering and maintains efficient access times.\n",
        "\n",
        "* Dynamic Resizing: To maintain performance, dictionaries dynamically resize. Initially, a dictionary starts with a small number of buckets (e.g., 8). As more items are added and the load factor increases, the dictionary resizes (typically doubling in size) to reduce the likelihood of collisions.\n",
        "\n",
        "* Insertion Order Preservation: Starting with Python 3.6, dictionaries preserve the insertion order of keys as an implementation detail. This behavior was officially guaranteed in Python 3.7, meaning that iterating over a dictionary will yield items in the order they were added."
      ],
      "metadata": {
        "id": "rnv7uWq4SOER"
      }
    },
    {
      "cell_type": "markdown",
      "source": [
        "**Q5. Why might you use a set instead of a list in Python?**\n",
        "\n",
        "* Sets and Lists are used to store collections of elements, but they serve different purposes and have distinct characteristics.\n",
        "\n",
        "* **1. No Duplicates Allowed**\n",
        "\n",
        "* Set automatically removes duplicates.\n",
        "* List allows duplicates.\n",
        "\n",
        "    my_list = [1, 2, 2, 3]\n",
        "\n",
        "    my_set = set(my_list)\n",
        "\n",
        "    print(my_set)  # Output: {1, 2, 3}\n",
        "\n",
        "* **2. Faster Membership Testing**\n",
        "\n",
        "* Checking if an item exists in a set is much faster than in a list.\n",
        "\n",
        "* Set lookup: O(1) (average)\n",
        "\n",
        "* List lookup: O(n)\n",
        "\n",
        "    \"apple\" in my_set  # Fast\n",
        "\n",
        "    \"apple\" in my_list  # Slower if list is large\n",
        "\n",
        "* **3. Efficient Set Operations**\n",
        "\n",
        "* Sets support useful math-like operations:\n",
        "\n",
        "* Union (set1 | set2)\n",
        "\n",
        "* Intersection (set1 & set2)\n",
        "\n",
        "* Difference (set1 - set2)\n",
        "\n",
        "    a = {1, 2, 3}\n",
        "\n",
        "    b = {3, 4, 5}\n",
        "\n",
        "    print(a & b)  # Output: {3}"
      ],
      "metadata": {
        "id": "7WDZoZnEVkCR"
      }
    },
    {
      "cell_type": "markdown",
      "source": [
        "**Q6. What is a string in Python, and how is it different from a list?**\n",
        "\n",
        "* String is an immutable sequence of characters used to represent textual data.\n",
        "\n",
        "* Code:\n",
        "\n",
        "    text = \"Hello, World!\"\n",
        "\n",
        "    print(text[0])        # Output: 'H'\n",
        "    \n",
        "    print(text.upper())   # Output: 'HELLO, WORLD!'\n",
        "\n",
        "* It’s an immutable data type, meaning once created, it cannot be changed.\n",
        "\n",
        "* Strings are used to store textual data like words, sentences, etc.\n",
        "\n",
        "* #### **Key Differences Between Strings and Lists**\n",
        "\n",
        "**Feature** ...............................................\t**String**.............................................................. **List**   \n",
        "\n",
        "**Elements** ......................................... Characters.......................................... Any data type (mixed allowed)\n",
        "\n",
        "**Mutability**......................................... Immutable........................................................\tMutable\n",
        "\n",
        "**Syntax** ...................................................\"hello\".........................................................['h', 'e', 'l', 'l', 'o']\n",
        "\n",
        "**Use Cases** ...................................... Textual data ................................................ Collections of items\n",
        "\n",
        "**Methods** ........................... String-specific (e.g., .upper(), .split()).......................... List-specific (e.g., .append(), .pop())"
      ],
      "metadata": {
        "id": "QXegY4Sg4QO1"
      }
    },
    {
      "cell_type": "markdown",
      "source": [
        "**Q7. How do tuples ensure data integrity in Python?**\n",
        "\n",
        "* Tuples are immutable sequences, meaning once a tuple is created, its elements cannot be modified, added, or removed. This immutability plays a crucial role in ensuring data integrity within your programs.\n",
        "\n",
        "* **How tuples ensure data integrity**\n",
        "\n",
        "* Immutability Prevents Accidental Changes:\n",
        "Since tuples cannot be altered after creation, they safeguard against unintended modifications. This is particularly beneficial when passing data between functions or modules, as it ensures the original data remains unchanged throughout the program's execution.\n",
        "\n",
        "     * Code:  \n",
        "  \n",
        "      config = (\"localhost\", 8080)\n",
        "\n",
        "        # config[0] = \"127.0.0.1\" TypeError\n",
        "\n",
        "\n",
        "* Reliable Storage of Constant Data:\n",
        "Tuples are ideal for storing fixed collections of items, such as configuration settings, coordinates, or days of the week. Their immutable nature guarantees that these constant values remain consistent and are not inadvertently altered during program execution.\n",
        "\n",
        "   * Code:\n",
        "\n",
        "     user_info = (\"Alice\", 25, \"Engineer\")\n",
        "\n",
        "     # Guaranteed that user_info won't be modified accidentally later in the program.\n",
        "\n",
        "* Safe Usage as Dictionary Keys:\n",
        "Because tuples are immutable, they can be used as keys in dictionaries. This allows for the creation of complex keys composed of multiple elements, enabling more sophisticated data structures while maintaining data integrity.\n",
        "\n",
        "    * Code:\n",
        "\n",
        "   location = {(40.7128, -74.0060): \"New York\"}\n",
        "\n",
        "\n",
        "* Enhanced Predictability and Debugging:\n",
        "The unchangeable nature of tuples leads to more predictable code behavior. When data structures remain constant, it's easier to trace and debug code, as you can be confident that the data hasn't been modified elsewhere in the program.\n",
        "\n",
        "    * Code:\n",
        "\n",
        "    config = ( \"localhost\", 8080)\n",
        "\n",
        "    #safe and fixed"
      ],
      "metadata": {
        "id": "B89QXqceNniZ"
      }
    },
    {
      "cell_type": "markdown",
      "source": [
        "**Q8. What is a hash table, and how does it relate to dictionaries in Python?**\n",
        "\n",
        "* Hash table is a data structure that stores key-value pairs. It uses a process called hashing to quickly find the location of a value based on its key.\n",
        "\n",
        "* **How Does This Relate to Python Dictionaries?**\n",
        "\n",
        "\n",
        "* Python’s built-in dict type is an implementation of a hash table.\n",
        "\n",
        "     * Code:\n",
        "\n",
        "      my_dict = {\"name\": \"Alice\", \"age\": 30}\n",
        "\n",
        "    * Hashes the key \"name\"\n",
        "\n",
        "   * Finds an index in memory\n",
        "\n",
        "   * Stores the value \"Alice\" at that index\n",
        "\n",
        "   * Looking up my_dict[\"name\"] is fast because Python just hashes \"name\" again and goes straight to the right spot."
      ],
      "metadata": {
        "id": "hVrU_inIgMLG"
      }
    },
    {
      "cell_type": "markdown",
      "source": [
        "**Q9. Can lists contain different data types in Python?**\n",
        "\n",
        "\n",
        "\n",
        "* Yes, in Python, lists can contain elements of different data types. This flexibility allows you to store a mix of integers, strings, floats, booleans, and even other lists or dictionaries within a single list.​\n",
        "\n",
        "    * Example:\n",
        "\n",
        "    mixed_list = [42, \"hello\", 3.14, True, None, [1, 2], {\"key\": \"value\"}]\n",
        "\n",
        "     print(mixed_list)\n",
        "\n",
        "    * Output:\n",
        "\n",
        "    [42, 'hello', 3.14, True, None, [1, 2], {'key': 'value'}]"
      ],
      "metadata": {
        "id": "YBSOOCp_iart"
      }
    },
    {
      "cell_type": "markdown",
      "source": [
        "**Q10. Explain why strings are immutable in Python?**\n",
        "\n",
        "\n",
        "\n",
        "* strings are \"immutable\" which means they cannot be changed after they are created.\n",
        "\n",
        "* **Why Are Strings Immutable in Python?**\n",
        "\n",
        "* **1. Efficiency (Performance Optimization):**\n",
        "\n",
        "* Because strings are immutable, Python can safely reuse string objects — especially common ones like \"yes\", \"no\", or \"hello\".\n",
        "\n",
        "* This makes string handling faster and more memory-efficient, since identical strings can be stored in just one place in memory (a technique called string interning).\n",
        "\n",
        "         Code:\n",
        "\n",
        "       a = \"hello\"\n",
        "\n",
        "       b = \"hello\"\n",
        "\n",
        "       print(a is b)  # True, both refer to the same memory location\n",
        "\n",
        "\n",
        "* **2. Hashing for dictionaries and sets**\n",
        "\n",
        "Strings need to be hashable to be used as keys in dictionaries or elements in sets. To be hashable, an object’s value must never change — which is guaranteed by immutability.\n",
        "\n",
        "            Code:\n",
        "\n",
        "            my_dict = {\"username\": \"Alice\"}\n",
        "\n",
        "            # 'username' is a string key, and its immutability ensures the hash doesn't change over time\n",
        "\n",
        "\n",
        "* **3. Safety**\n",
        "\n",
        "* When you pass strings around in your code, you can trust they won’t be altered by another part of your program.\n",
        "\n",
        "* This is especially helpful in multithreaded programs, where shared mutable state can cause bugs and weird behavior.\n",
        "\n",
        "* **4. Predictable Behavior and Fewer Bugs**\n",
        "\n",
        "* When you pass a string into a function or assign it to a new variable, you know it won't change unexpectedly.\n",
        "\n",
        "      Code:\n",
        "\n",
        "      def shout(word):\n",
        "            word += \"!\"  # creates a new string, doesn’t change the original\n",
        "      \n",
        "      text = \"hello\"\n",
        "      shout(text)\n",
        "      print(text)  # Still \"hello\""
      ],
      "metadata": {
        "id": "WrcF-fD4kAQ7"
      }
    },
    {
      "cell_type": "markdown",
      "source": [
        "**Q11. What advantages do dictionaries offer over lists for certain tasks?**\n",
        "\n",
        "* Dictionaries and lists are powerful data structures in Python, but they shine in different scenarios.\n",
        "\n",
        "* **advantages dictionaries offer over lists for certain tasks:**\n",
        "\n",
        " **1. Fast Lookups by Key (O(1))**\n",
        "\n",
        "* Dictionaries: Provide constant-time complexity (O(1)) for retrieving values using unique keys, thanks to their underlying hash table implementation.​\n",
        "\n",
        "* Lists: Require linear-time complexity (O(n)) to search for an element, as they may need to traverse the entire list.​\n",
        "\n",
        "         Example:\n",
        "         grades = {'Alice': 90, 'Bob': 85}\n",
        "         print(grades['Alice'])  # Output: 90\n",
        "\n",
        "* **2. Meaningful Data Association**\n",
        "\n",
        "* Dictionaries: Store data as key-value pairs, allowing for clear and direct associations between identifiers and their corresponding values.​\n",
        "\n",
        "* Lists: Store data in a sequential manner without inherent associations, relying on positional indexing.​\n",
        "  \n",
        "        Example:\n",
        "        person = {'name': 'Alice', 'age': 30}\n",
        "\n",
        "* **3. Handling Sparse Data Efficiently**\n",
        "\n",
        "* Dictionaries: Efficiently manage sparse datasets by storing only the necessary key-value pairs without allocating space for missing elements.​\n",
        "\n",
        "* Lists: May require placeholders (e.g., None) for absent data, leading to inefficient memory usage.\n",
        "\n",
        "        Example:\n",
        "        sparse_matrix = {(0, 1): 5, (2, 3): 10}\n",
        "  \n",
        "* **4. Flexibility with Mixed Data Types**\n",
        "\n",
        "* Dictionaries: Allow keys and values to be of different and mixed data types, providing flexibility in data modeling.​\n",
        "\n",
        "* Lists: While they can contain mixed data types, they don't inherently associate elements, which can lead to less structured data.\n",
        "\n",
        "        Example:\n",
        "        item = {'id': 101, 'name': 'Widget', 'price': 9.99}"
      ],
      "metadata": {
        "id": "MDSqIu-VqOGm"
      }
    },
    {
      "cell_type": "markdown",
      "source": [
        "**Q12. Describe a scenario where using a tuple would be preferable over a list?**\n",
        "\n",
        "* **Scenario: Returning multiple values from a function:**\n",
        "\n",
        "*  Let’s say you’re writing a program that deals with geometry, and you need to represent the coordinates of a point in 2D space.\n",
        "\n",
        "        Example\n",
        "     \n",
        "        point = (3, 5)\n",
        "\n",
        "* **tuple is better than a list because:**\n",
        "\n",
        "* Immutability: The coordinates of a point typically don't change — once a point is defined, you usually don't want to accidentally modify it.\n",
        "\n",
        "* Semantic Clarity: Using a tuple signals to others reading the code that this data is fixed and should not be altered.\n",
        "\n",
        "* Hashability: Tuples can be used as keys in dictionaries or elements in sets (as long as all their elements are also immutable), which lists can’t do.     \n",
        "\n",
        "* **Other scenarios where tuples are better:**\n",
        "\n",
        "* **1. As dictionary keys or elements of a set**\n",
        "\n",
        "* Lists can't be used as keys because they're mutable and unhashable.\n",
        "\n",
        "        Example:\n",
        "        coords = {(10, 20): \"Tree\", (15, 25): \"House\"}  # Tuple as a key\n",
        "\n",
        "\n",
        "* **2. When working with fixed-size, heterogeneous data**\n",
        "\n",
        "*  Example: Representing a point in 3D space:\n",
        "\n",
        "          point = (3.0, 4.5, 9.8)  # x, y, z\n",
        "\n",
        "* **3. As function parameters or return types when structure matters**\n",
        "\n",
        "* Like unpacking values:\n",
        "\n",
        "        name, age = (\"Alice\", 30)"
      ],
      "metadata": {
        "id": "rjqJQaMYwAWr"
      }
    },
    {
      "cell_type": "markdown",
      "source": [
        "**Q13. How do sets handle duplicate values in Python?**\n",
        "\n",
        "\n",
        "* Sets in Python automatically eliminate duplicate values — they only store unique elements. If you try to add a duplicate, the set just ignores it.\n",
        "\n",
        "      Example:\n",
        "       my_set = {1, 2, 2, 3, 4, 4, 4}\n",
        "       print(my_set)  # Output: {1, 2, 3, 4}\n",
        "\n",
        "* Even though 2 and 4 were listed multiple times, the set only kept one of each.\n",
        "\n",
        "* **Adding duplicates:**\n",
        "   \n",
        "         my_set.add(3)\n",
        "         print(my_set)  # Still {1, 2, 3, 4} — no duplicate added\n",
        "\n",
        "\n",
        "* The .add() method doesn’t throw an error, it just quietly does nothing if the item’s already there."
      ],
      "metadata": {
        "id": "7udBeAN-ksSH"
      }
    },
    {
      "cell_type": "markdown",
      "source": [
        "**Q14. How does the “in” keyword work differently for lists and dictionaries?**\n",
        "\n",
        "* **in with Lists:**\n",
        "* Purpose: Checks if a specific value exists among the elements of the list.​\n",
        "\n",
        "* Behavior: Performs a linear search through the list elements.\n",
        "\n",
        "* Time Complexity: O(n), where n is the number of elements in the list.\n",
        "\n",
        "        Example:\n",
        "        fruits = ['apple', 'banana', 'cherry']\n",
        "        print('banana' in fruits)  # Output: True\n",
        "\n",
        "\n",
        "* **in with Dictionaries:**\n",
        "\n",
        "* Purpose: Checks if a specific key exists in the dictionary.​\n",
        "\n",
        "* Behavior: Performs a hash table lookup for the key.​\n",
        "\n",
        "* Time Complexity: O(1) on average, due to the underlying hash table implementation.​\n",
        "\n",
        "       Example:\n",
        "       person = {'name': 'Alice', 'age': 30}\n",
        "       print('name' in person)   # Output: True\n",
        "       print('Alice' in person)  # Output: False\n",
        "   \n",
        "* In this example, 'name' is a key in the dictionary, so 'name' in person returns True. However, 'Alice' is a value, not a key, so 'Alice' in person returns False."
      ],
      "metadata": {
        "id": "e4HprF1v2tqc"
      }
    },
    {
      "cell_type": "markdown",
      "source": [
        "**Q15. Can you modify the elements of a tuple? Explain why or why not?**\n",
        "\n",
        "* No, you cannot modify the elements of a tuple in Python. Tuples are immutable, meaning that once a tuple is created, its elements cannot be changed, added, or removed.\n",
        "\n",
        "        Example:\n",
        "        my_tuple = (1, 2, 3)\n",
        "        my_tuple[0] = 99  # TypeError: 'tuple' object does not support item assignment\n",
        "\n",
        "\n",
        "* **Why Are Tuples Immutable?**\n",
        "* Data Integrity: Immutability ensures that the data remains constant throughout the program, preventing accidental modifications.​\n",
        "\n",
        "* Hashability: Because tuples are immutable, they can be used as keys in dictionaries and elements in sets, which require their items to be hashable.\n",
        "\n",
        "* Performance Optimization: Immutable objects can be optimized by Python's memory management, leading to faster execution and reduced memory usage.​\n",
        "\n",
        "* **Can a tuple contain mutable elements?**\n",
        "* ​Yes, a tuple in Python can contain mutable elements. While the tuple itself is immutable—meaning its structure and the references to its elements cannot be changed—the objects it contains can be mutable and thus modifiable.​\n",
        "\n",
        "        Example:\n",
        "        t = ([1, 2], {'a': 3}, \"hello\")\n",
        "        print(t)  # ([1, 2], {'a': 3}, 'hello')\n",
        "\n",
        "        # Modifying the list inside the tuple\n",
        "        t[0].append(3)\n",
        "        print(t)  # ([1, 2, 3], {'a': 3}, 'hello')"
      ],
      "metadata": {
        "id": "tXUZUhnm5HeI"
      }
    },
    {
      "cell_type": "markdown",
      "source": [
        "**Q16. What is a nested dictionary, and give an example of its use case?**\n",
        "\n",
        "\n",
        "* ​A nested dictionary in Python is a dictionary where each value can also be a dictionary. This structure allows for the representation of complex, hierarchical data in a clear and organized manner.\n",
        "\n",
        "*  **What Is a Nested Dictionary?**\n",
        "\n",
        "\n",
        "\n",
        "*  In Python, a nested dictionary is defined as a dictionary inside another dictionary. This means that the values of some keys are themselves dictionaries, enabling the storage of more detailed information.​\n",
        "\n",
        "       Example:\n",
        "       # Nested dictionary representing student information\n",
        "       students = {\n",
        "           'student1': {'name': 'Alice', 'age': 23, 'major': 'Physics'},\n",
        "           'student2': {'name': 'Bob', 'age': 21, 'major': 'Chemistry'}\n",
        "       }\n",
        "\n",
        "\n",
        "* n this example, students is a dictionary where each key (e.g., 'student1') maps to another dictionary containing details about that student.\n",
        "\n",
        "\n",
        "\n",
        "* **Why use nested dictionaries?**\n",
        "\n",
        "* To model complex data (like JSON, API responses).\n",
        "\n",
        "* Group related information under keys for clarity.\n",
        "\n",
        "* Easily loop through and manipulate structured data.\n",
        "\n",
        "* **1. Organizing Hierarchical Data**\n",
        "    \n",
        "        user_data = {\n",
        "            \"user1\": {\"name\": \"Alice\", \"age\": 30},\n",
        "            \"user2\": {\"name\": \"Bob\", \"age\": 25}\n",
        "        }\n",
        "  \n",
        "\n",
        "* **2. Grouping Related Info**\n",
        "\n",
        "       grades = {\n",
        "           \"Math\": {\"John\": 90, \"Emma\": 85},\n",
        "          \"Science\": {\"John\": 92, \"Emma\": 88}\n",
        "       }\n",
        "\n",
        "* **3. Improved Readability and Maintainability**\n",
        "* Instead of a flat, long structure or a bunch of separate variables, nested dicts let you keep everything tidy and logically grouped.\n",
        "\n",
        "* **4. Dynamic and Flexible**\n",
        "\n",
        "      data = {}\n",
        "      data[\"USA\"] = {}\n",
        "      data[\"USA\"][\"California\"] = {\"population\": 39_000_000}\n",
        "\n",
        "\n",
        "* **Example Use Cases**\n",
        "* JSON parsing\n",
        "\n",
        "* Configuration files (config[\"database\"][\"host\"])\n",
        "\n",
        "* Storing user settings\n",
        "\n",
        "* Organizing statistics or reports\n"
      ],
      "metadata": {
        "id": "dJgbTXSMiAR4"
      }
    },
    {
      "cell_type": "markdown",
      "source": [
        "**Q17. Describe the time complexity of accessing elements in a dictionary?**\n",
        "\n",
        "\n",
        "**Time Complexity of Accessing Elements in a Dictionary**\n",
        "\n",
        "* **Average Case: O(1) (Constant Time)**\n",
        "\n",
        "* Accessing an element by its key is very fast.\n",
        "\n",
        "* This is because Python dictionaries use a hash table internally.\n",
        "\n",
        "* The key is hashed to find the index where the value is stored.\n",
        "\n",
        "* **Worst Case: O(n) (Linear Time)**\n",
        "\n",
        "* Hash collisions (multiple keys map to the same hash bucket).\n",
        "\n",
        "* Poorly distributed hash functions.\n",
        "\n",
        "* Or if the dictionary is under attack (e.g., in security-sensitive contexts).\n",
        "\n",
        "      Example:\n",
        "      my_dict = {\"name\": \"Alice\", \"age\": 30}\n",
        "      print(my_dict[\"name\"])  # O(1) average-case lookup\n"
      ],
      "metadata": {
        "id": "vrW22VKSalQA"
      }
    },
    {
      "cell_type": "markdown",
      "source": [
        "**Q18. In what situations are lists preferred over dictionaries?**\n",
        "\n",
        "\n",
        "* Lists and dictionaries are both versatile data structures in Python, but they're suited to different kinds of tasks.\n",
        "* When lists are generally preferred over dictionaries:\n",
        "\n",
        "* **1. Order Matters:**\n",
        "\n",
        "*  Lists maintain the order of elements. If you care about the sequence in which items appear, use a list.\n",
        "\n",
        "* Example: Storing a playlist of songs, steps in a recipe, or ordered points in a path.\n",
        "\n",
        "\n",
        "* **2. You Only Need Values (No Keys):**\n",
        "\n",
        "* If you’re just dealing with a collection of items without needing to associate them with keys, a list is simpler and more readable.\n",
        "\n",
        "* Example: [10, 20, 30, 40] instead of {'a': 10, 'b': 20, 'c': 30}\n",
        "\n",
        "\n",
        "* **3. Index-Based Access is Needed**\n",
        "\n",
        "* Lists are ideal when you want to access elements using numeric indices (like my_list[0]).\n",
        "\n",
        "* Example: Iterating through a sequence or modifying items by position.\n",
        "\n",
        "* **4. Duplicates Are Allowed or Expected**\n",
        "\n",
        "\n",
        "* Lists can contain duplicate values, which is useful when duplicates are meaningful (like a log of events or user actions).\n",
        "\n",
        "* Example: [2, 4, 4, 8, 16]\n",
        "\n",
        "* **5. Performance for Small or Simple Collections**\n",
        "\n",
        "* For small datasets, lists are slightly faster and use less memory than dictionaries due to their simpler structure.\n",
        "\n",
        "* **6. You Need to Sort Elements**\n",
        "\n",
        "\n",
        "* Lists can be sorted easily since they are just values.\n",
        "\n",
        "* Example: sorted(my_list) or my_list.sort()\n"
      ],
      "metadata": {
        "id": "ClNYEvJ3cH9O"
      }
    },
    {
      "cell_type": "markdown",
      "source": [
        "**Q19. Why are dictionaries considered unordered, and how does that affect data retrieval?**\n",
        "\n",
        "\n",
        "* **Why Were Dictionaries Considered Unordered?**\n",
        "* Historically, dictionaries were considered unordered because:\n",
        "\n",
        "* Before Python 3.7, the insertion order of keys was not guaranteed.\n",
        "\n",
        "* Even though it might seem consistent in practice (especially in Python 3.6 due to implementation quirks), you couldn’t rely on the order.\n",
        "\n",
        "* The internal structure (typically a hash table) focuses on fast access via keys, not order.\n",
        "*   List item\n",
        "\n",
        "* **Since Python 3.7+:**\n",
        "\n",
        "\n",
        "*Dictionaries preserve insertion order by design.\n",
        "\n",
        "* This means if you do:\n",
        "       Code\n",
        "       my_dict = {\"a\": 1, \"b\": 2, \"c\": 3}\n",
        "       print(my_dict)\n",
        "\n",
        "* You'll consistently get:\n",
        "        Code\n",
        "        {'a': 1, 'b': 2, 'c': 3}\n",
        "\n",
        " * **How Does That Affect Data Retrieval?**\n",
        "\n",
        " **1. Key-Based Access is Fast**\n",
        "\n",
        "* Retrieval is based on the key, not the order.\n",
        "\n",
        "* my_dict['b'] → fast and direct, regardless of position.\n",
        "\n",
        "**2. No Indexing Like Lists**\n",
        "\n",
        "* You can't do my_dict[1] to get the \"second\" item.\n",
        "\n",
        "* You need to use .keys() or .items() and convert them to a list if you want position-based access:\n",
        "          list(my_dict.items())[1]  # ('b', 2)\n",
        "\n",
        "**3. If You Need Sorted Order, You Must Sort**\n",
        "\n",
        "* Want the keys or items in alphabetical/numerical order? Use sorted():\n",
        "\n",
        "         for key in sorted(my_dict):\n",
        "            print(key, my_dict[key])\n"
      ],
      "metadata": {
        "id": "NPYOUqG1fPoP"
      }
    },
    {
      "cell_type": "markdown",
      "source": [
        "**Q20. Explain the difference between a list and a dictionary in terms of data retrieval.**\n",
        "\n",
        "* lists and dictionaries are fundamental data structures that differ significantly in how they store and retrieve data.\n",
        "\n",
        "\n",
        "* **1. Lists: Index-Based Retrieval**\n",
        "* You retrieve elements by their position (index).\n",
        "\n",
        "* Indexes are integers starting at 0.\n",
        "         Example:\n",
        "                fruits = [\"apple\", \"banana\", \"cherry\"]\n",
        "                print(fruits[1])  # Output: banana\n",
        "* **Characteristics:**\n",
        "* Order matters — the sequence is important.\n",
        "\n",
        "* Access time: O(1) for a known index.\n",
        "\n",
        "* Searching by value: Slower (O(n)), because you have to look through each item.\n",
        "\n",
        "\n",
        "**2. Dictionaries: Key-Based Retrieval**\n",
        "\n",
        "* You retrieve elements by their keys (not by index).\n",
        "\n",
        "* Keys can be strings, numbers, tuples, etc. (as long as they're hashable).\n",
        "          Example:\n",
        "          person = {\"name\": \"Alice\", \"age\": 30, \"city\": \"Paris\"}\n",
        "          print(person[\"age\"])  # Output: 30\n",
        "\n",
        "\n",
        "* **Characteristics:**\n",
        "\n",
        "* Order is preserved (Python 3.7+), but not the focus.\n",
        "\n",
        "* Access time: Very fast — O(1) on average using a hash lookup.\n",
        "\n",
        "* You can’t access items by numeric position (unless you convert it to a list of items)."
      ],
      "metadata": {
        "id": "tXYMcjkihu_T"
      }
    },
    {
      "cell_type": "markdown",
      "source": [
        "## **Practical Questions**"
      ],
      "metadata": {
        "id": "F2jhelzRleQR"
      }
    },
    {
      "cell_type": "code",
      "source": [
        "# Write a code to create a string with your name and print it.\n",
        "\n",
        "# Create a string with a name\n",
        "my_name = \"sonia\"\n",
        "\n",
        "# Print the name\n",
        "print(\"My name is\", my_name)\n"
      ],
      "metadata": {
        "colab": {
          "base_uri": "https://localhost:8080/"
        },
        "id": "hSIlC9Uylhnj",
        "outputId": "d4beeeea-6667-4a6d-f526-b03303b97327"
      },
      "execution_count": 1,
      "outputs": [
        {
          "output_type": "stream",
          "name": "stdout",
          "text": [
            "My name is sonia\n"
          ]
        }
      ]
    },
    {
      "cell_type": "code",
      "source": [
        "# Write a code to find the length of the string \"Hello World\"\n",
        "\n",
        "# Define the string\n",
        "my_string = \"Hello World\"\n",
        "\n",
        "# Calculate the length of the string\n",
        "length = len(my_string)\n",
        "\n",
        "# Print the length\n",
        "print(\"The length of the string is:\", length)"
      ],
      "metadata": {
        "colab": {
          "base_uri": "https://localhost:8080/"
        },
        "id": "8MQUi4oPmUgo",
        "outputId": "def94817-28e4-4fa1-d04d-16b758bf04b4"
      },
      "execution_count": 2,
      "outputs": [
        {
          "output_type": "stream",
          "name": "stdout",
          "text": [
            "The length of the string is: 11\n"
          ]
        }
      ]
    },
    {
      "cell_type": "code",
      "source": [
        "# Write a code to slice the first 3 characters from the string \"Python Programming\"\n",
        "\n",
        "# Define the string\n",
        "text = \"Python Programming\"\n",
        "\n",
        "# Slice the first 3 characters\n",
        "sliced_text = text[:3]\n",
        "\n",
        "# Print the result\n",
        "print(\"First 3 characters:\", sliced_text)"
      ],
      "metadata": {
        "colab": {
          "base_uri": "https://localhost:8080/"
        },
        "id": "HBMfwGoPm8oD",
        "outputId": "b20eaec4-cd5a-435c-828c-413a8bf0af77"
      },
      "execution_count": 3,
      "outputs": [
        {
          "output_type": "stream",
          "name": "stdout",
          "text": [
            "First 3 characters: Pyt\n"
          ]
        }
      ]
    },
    {
      "cell_type": "code",
      "source": [
        "# Write a code to convert the string \"hello\" to uppercase\n",
        "# Define the string\n",
        "text = \"hello\"\n",
        "\n",
        "# Convert to uppercase\n",
        "uppercase_text = text.upper()\n",
        "\n",
        "# Print the result\n",
        "print(\"Uppercase string:\", uppercase_text)"
      ],
      "metadata": {
        "colab": {
          "base_uri": "https://localhost:8080/"
        },
        "id": "7xHS-7VsnQPX",
        "outputId": "816990c5-dea3-496d-bc00-76f7630794ee"
      },
      "execution_count": 4,
      "outputs": [
        {
          "output_type": "stream",
          "name": "stdout",
          "text": [
            "Uppercase string: HELLO\n"
          ]
        }
      ]
    },
    {
      "cell_type": "code",
      "source": [
        "# Write a code to replace the word \"apple\" with \"orange\" in the string \"I like apple\"\n",
        "# Define the string\n",
        "text = \"I like apple\"\n",
        "\n",
        "# Replace 'apple' with 'orange'\n",
        "new_text = text.replace(\"apple\", \"orange\")\n",
        "\n",
        "# Print the result\n",
        "print(\"Updated string:\", new_text)"
      ],
      "metadata": {
        "colab": {
          "base_uri": "https://localhost:8080/"
        },
        "id": "eYzvIcS6nfmK",
        "outputId": "fa7a4afb-1352-4a44-d0fb-58138bf4e297"
      },
      "execution_count": 6,
      "outputs": [
        {
          "output_type": "stream",
          "name": "stdout",
          "text": [
            "Updated string: I like orange\n"
          ]
        }
      ]
    },
    {
      "cell_type": "code",
      "source": [
        "# Write a code to create a list with numbers 1 to 5 and print it.\n",
        "# Create the list with numbers 1 to 5\n",
        "my_list = [1, 2, 3, 4, 5]\n",
        "\n",
        "# Print the list\n",
        "print(\"The list is:\", my_list)"
      ],
      "metadata": {
        "colab": {
          "base_uri": "https://localhost:8080/"
        },
        "id": "3E3Uk7wAn0xm",
        "outputId": "e54cef08-aedb-46db-d741-1c7b98e9b4f5"
      },
      "execution_count": 7,
      "outputs": [
        {
          "output_type": "stream",
          "name": "stdout",
          "text": [
            "The list is: [1, 2, 3, 4, 5]\n"
          ]
        }
      ]
    },
    {
      "cell_type": "code",
      "source": [
        "# Write a code to append the number 10 to the list [1, 2, 3, 4].\n",
        "# Define the list\n",
        "my_list = [1, 2, 3, 4]\n",
        "\n",
        "# Append the number 10 to the list\n",
        "my_list.append(10)\n",
        "\n",
        "# Print the updated list\n",
        "print(\"Updated list:\", my_list)"
      ],
      "metadata": {
        "colab": {
          "base_uri": "https://localhost:8080/"
        },
        "id": "iQkwx039o9Xk",
        "outputId": "b964b575-58a1-4764-bc12-358ffc50da44"
      },
      "execution_count": 8,
      "outputs": [
        {
          "output_type": "stream",
          "name": "stdout",
          "text": [
            "Updated list: [1, 2, 3, 4, 10]\n"
          ]
        }
      ]
    },
    {
      "cell_type": "code",
      "source": [
        "# Write a code to remove the number 3 from the list [1, 2, 3, 4, 5].\n",
        "# Define the list\n",
        "my_list = [1, 2, 3, 4, 5]\n",
        "\n",
        "# Remove the number 3 from the list\n",
        "my_list.remove(3)\n",
        "\n",
        "# Print the updated list\n",
        "print(\"Updated list:\", my_list)"
      ],
      "metadata": {
        "colab": {
          "base_uri": "https://localhost:8080/"
        },
        "id": "J4B9XlOPpKKY",
        "outputId": "f5f782c5-2103-4eb5-a4ab-4e7fc9793085"
      },
      "execution_count": 9,
      "outputs": [
        {
          "output_type": "stream",
          "name": "stdout",
          "text": [
            "Updated list: [1, 2, 4, 5]\n"
          ]
        }
      ]
    },
    {
      "cell_type": "code",
      "source": [
        "# Write a code to access the second element in the list ['a', 'b', 'c', 'd']\n",
        "# Define the list\n",
        "my_list = ['a', 'b', 'c', 'd']\n",
        "\n",
        "# Access the second element (index 1)\n",
        "second_element = my_list[1]\n",
        "\n",
        "# Print the second element\n",
        "print(\"The second element is:\", second_element)"
      ],
      "metadata": {
        "colab": {
          "base_uri": "https://localhost:8080/"
        },
        "id": "84SWQlJypmqo",
        "outputId": "7c378504-7abd-4ef7-e704-1a1aba2bda9b"
      },
      "execution_count": 10,
      "outputs": [
        {
          "output_type": "stream",
          "name": "stdout",
          "text": [
            "The second element is: b\n"
          ]
        }
      ]
    },
    {
      "cell_type": "code",
      "source": [
        "# Write a code to reverse the list [10, 20, 30, 40, 50].\n",
        "# Define the list\n",
        "my_list = [10, 20, 30, 40, 50]\n",
        "\n",
        "# Reverse the list\n",
        "reversed_list = my_list[::-1]\n",
        "\n",
        "# Print the reversed list\n",
        "print(\"Reversed list:\", reversed_list)"
      ],
      "metadata": {
        "colab": {
          "base_uri": "https://localhost:8080/"
        },
        "id": "pOOUGH8NpzF3",
        "outputId": "40ca2ed0-4726-4383-f8f4-d7648844f232"
      },
      "execution_count": 11,
      "outputs": [
        {
          "output_type": "stream",
          "name": "stdout",
          "text": [
            "Reversed list: [50, 40, 30, 20, 10]\n"
          ]
        }
      ]
    },
    {
      "cell_type": "code",
      "source": [
        "# Write a code to create a tuple with the elements 100, 200, 300 and print it.\n",
        "# Create the tuple\n",
        "my_tuple = (100, 200, 300)\n",
        "\n",
        "# Print the tuple\n",
        "print(\"The tuple is:\", my_tuple)"
      ],
      "metadata": {
        "colab": {
          "base_uri": "https://localhost:8080/"
        },
        "id": "9pHgAFYMqDTs",
        "outputId": "fe36b85e-d63d-4c90-bf70-b5e89dfbd3ff"
      },
      "execution_count": 12,
      "outputs": [
        {
          "output_type": "stream",
          "name": "stdout",
          "text": [
            "The tuple is: (100, 200, 300)\n"
          ]
        }
      ]
    },
    {
      "cell_type": "code",
      "source": [
        "# Write a code to access the second-to-last element of the tuple ('red', 'green', 'blue', 'yellow').\n",
        "# Define the tuple\n",
        "my_tuple = ('red', 'green', 'blue', 'yellow')\n",
        "\n",
        "# Access the second-to-last element using negative indexing\n",
        "second_to_last_element = my_tuple[-2]\n",
        "\n",
        "# Print the second-to-last element\n",
        "print(\"The second-to-last element is:\", second_to_last_element)"
      ],
      "metadata": {
        "colab": {
          "base_uri": "https://localhost:8080/"
        },
        "id": "i5jiwdxWqlJM",
        "outputId": "7122cf09-6fdf-4d62-bb28-3453fa43d271"
      },
      "execution_count": 13,
      "outputs": [
        {
          "output_type": "stream",
          "name": "stdout",
          "text": [
            "The second-to-last element is: blue\n"
          ]
        }
      ]
    },
    {
      "cell_type": "code",
      "source": [
        "# Write a code to find the minimum number in the tuple (10, 20, 5, 15).\n",
        "# Define the tuple\n",
        "my_tuple = (10, 20, 5, 15)\n",
        "\n",
        "# Find the minimum number in the tuple\n",
        "min_value = min(my_tuple)\n",
        "\n",
        "# Print the minimum value\n",
        "print(\"The minimum number is:\", min_value)"
      ],
      "metadata": {
        "colab": {
          "base_uri": "https://localhost:8080/"
        },
        "id": "egJ7VrgprDfU",
        "outputId": "e130fe05-e894-4598-ba07-283153d75010"
      },
      "execution_count": 14,
      "outputs": [
        {
          "output_type": "stream",
          "name": "stdout",
          "text": [
            "The minimum number is: 5\n"
          ]
        }
      ]
    },
    {
      "cell_type": "code",
      "source": [
        "# Write a code to find the index of the element \"cat\" in the tuple ('dog', 'cat', 'rabbit').\n",
        "# Define the tuple\n",
        "my_tuple = ('dog', 'cat', 'rabbit')\n",
        "\n",
        "# Find the index of the element \"cat\"\n",
        "index_of_cat = my_tuple.index('cat')\n",
        "\n",
        "# Print the index\n",
        "print(\"The index of 'cat' is:\", index_of_cat)"
      ],
      "metadata": {
        "colab": {
          "base_uri": "https://localhost:8080/"
        },
        "id": "AkFRJ_C8rTm2",
        "outputId": "3b7af95a-2837-4d74-d8c8-f00ff0837fdc"
      },
      "execution_count": 15,
      "outputs": [
        {
          "output_type": "stream",
          "name": "stdout",
          "text": [
            "The index of 'cat' is: 1\n"
          ]
        }
      ]
    },
    {
      "cell_type": "code",
      "source": [
        "# Write a code to create a tuple containing three different fruits and check if \"kiwi\" is in it.\n",
        "# Create the tuple with fruits\n",
        "fruits_tuple = ('apple', 'banana', 'cherry')\n",
        "\n",
        "# Check if \"kiwi\" is in the tuple\n",
        "is_kiwi_in_tuple = 'kiwi' in fruits_tuple\n",
        "\n",
        "# Print the result\n",
        "print(\"Is 'kiwi' in the tuple?\", is_kiwi_in_tuple)"
      ],
      "metadata": {
        "colab": {
          "base_uri": "https://localhost:8080/"
        },
        "id": "ODUN84mBrhet",
        "outputId": "311a5cdb-bd3a-4d2f-82d3-170df7ce9bc7"
      },
      "execution_count": 16,
      "outputs": [
        {
          "output_type": "stream",
          "name": "stdout",
          "text": [
            "Is 'kiwi' in the tuple? False\n"
          ]
        }
      ]
    },
    {
      "cell_type": "code",
      "source": [
        "# Write a code to create a set with the elements 'a', 'b', 'c' and print it.\n",
        "\n",
        "# Create the set with elements 'a', 'b', 'c'\n",
        "my_set = {'a', 'b', 'c'}\n",
        "\n",
        "# Print the set\n",
        "print(\"The set is:\", my_set)"
      ],
      "metadata": {
        "colab": {
          "base_uri": "https://localhost:8080/"
        },
        "id": "gFLzfWKKrw47",
        "outputId": "c332daea-5e22-4e21-89d7-3d08d42b0b48"
      },
      "execution_count": 17,
      "outputs": [
        {
          "output_type": "stream",
          "name": "stdout",
          "text": [
            "The set is: {'a', 'b', 'c'}\n"
          ]
        }
      ]
    },
    {
      "cell_type": "code",
      "source": [
        "# Write a code to clear all elements from the set {1, 2, 3, 4, 5}.\n",
        "# Define the set\n",
        "my_set = {1, 2, 3, 4, 5}\n",
        "\n",
        "# Clear all elements from the set\n",
        "my_set.clear()\n",
        "\n",
        "# Print the set after clearing\n",
        "print(\"The set after clearing:\", my_set)"
      ],
      "metadata": {
        "colab": {
          "base_uri": "https://localhost:8080/"
        },
        "id": "SDcCg3PDsCkY",
        "outputId": "37d2e4a3-3840-46f3-96cf-8c7345bb4cc7"
      },
      "execution_count": 18,
      "outputs": [
        {
          "output_type": "stream",
          "name": "stdout",
          "text": [
            "The set after clearing: set()\n"
          ]
        }
      ]
    },
    {
      "cell_type": "code",
      "source": [
        "# Write a code to remove the element 4 from the set {1, 2, 3, 4}.\n",
        "# Define the set\n",
        "my_set = {1, 2, 3, 4}\n",
        "\n",
        "# Remove the element 4 from the set\n",
        "my_set.remove(4)\n",
        "\n",
        "# Print the updated set\n",
        "print(\"The set after removal:\", my_set)"
      ],
      "metadata": {
        "colab": {
          "base_uri": "https://localhost:8080/"
        },
        "id": "TagYvKILsMAl",
        "outputId": "b6730eca-45d4-42f5-f3e0-cbbae04e273d"
      },
      "execution_count": 19,
      "outputs": [
        {
          "output_type": "stream",
          "name": "stdout",
          "text": [
            "The set after removal: {1, 2, 3}\n"
          ]
        }
      ]
    },
    {
      "cell_type": "code",
      "source": [
        "# Write a code to find the union of two sets {1, 2, 3} and {3, 4, 5}.\n",
        "# Define the sets\n",
        "set1 = {1, 2, 3}\n",
        "set2 = {3, 4, 5}\n",
        "\n",
        "# Find the union of the two sets\n",
        "union_set = set1 | set2\n",
        "\n",
        "# Print the union of the sets\n",
        "print(\"Union of the sets:\", union_set)"
      ],
      "metadata": {
        "colab": {
          "base_uri": "https://localhost:8080/"
        },
        "id": "BILoXiPzsVzt",
        "outputId": "2ef0b017-7f44-4d51-9f9a-8f669bc5f5d2"
      },
      "execution_count": 20,
      "outputs": [
        {
          "output_type": "stream",
          "name": "stdout",
          "text": [
            "Union of the sets: {1, 2, 3, 4, 5}\n"
          ]
        }
      ]
    },
    {
      "cell_type": "code",
      "source": [
        "# Write a code to find the intersection of two sets {1, 2, 3} and {2, 3, 4}.\n",
        "# Define the sets\n",
        "set1 = {1, 2, 3}\n",
        "set2 = {2, 3, 4}\n",
        "\n",
        "# Find the intersection of the two sets\n",
        "intersection_set = set1 & set2\n",
        "\n",
        "# Print the intersection of the sets\n",
        "print(\"Intersection of the sets:\", intersection_set)"
      ],
      "metadata": {
        "colab": {
          "base_uri": "https://localhost:8080/"
        },
        "id": "E01QJEIcs0jG",
        "outputId": "dd08bab2-696b-4fa8-c504-c16e6c62fffb"
      },
      "execution_count": 21,
      "outputs": [
        {
          "output_type": "stream",
          "name": "stdout",
          "text": [
            "Intersection of the sets: {2, 3}\n"
          ]
        }
      ]
    },
    {
      "cell_type": "code",
      "source": [
        "# Write a code to create a dictionary with the keys \"name\", \"age\", and \"city\", and print it.\n",
        "# Create the dictionary\n",
        "my_dict = {\n",
        "    \"name\": \"Alice\",\n",
        "    \"age\": 30,\n",
        "    \"city\": \"New York\"\n",
        "}\n",
        "\n",
        "# Print the dictionary\n",
        "print(\"The dictionary is:\", my_dict)"
      ],
      "metadata": {
        "colab": {
          "base_uri": "https://localhost:8080/"
        },
        "id": "4Q-59ENTtOcN",
        "outputId": "e15fa7f8-4eb7-48a5-d582-1328095b20af"
      },
      "execution_count": 22,
      "outputs": [
        {
          "output_type": "stream",
          "name": "stdout",
          "text": [
            "The dictionary is: {'name': 'Alice', 'age': 30, 'city': 'New York'}\n"
          ]
        }
      ]
    },
    {
      "cell_type": "code",
      "source": [
        "# Write a code to add a new key-value pair \"country\": \"USA\" to the dictionary {'name': 'John', 'age': 25}.\n",
        "# Define the dictionary\n",
        "my_dict = {'name': 'John', 'age': 25}\n",
        "\n",
        "# Add the new key-value pair\n",
        "my_dict[\"country\"] = \"USA\"\n",
        "\n",
        "# Print the updated dictionary\n",
        "print(\"Updated dictionary:\", my_dict)"
      ],
      "metadata": {
        "colab": {
          "base_uri": "https://localhost:8080/"
        },
        "id": "oaN3ZewptZQM",
        "outputId": "1f8763a8-00a1-4af3-8be2-94abfe6d9652"
      },
      "execution_count": 23,
      "outputs": [
        {
          "output_type": "stream",
          "name": "stdout",
          "text": [
            "Updated dictionary: {'name': 'John', 'age': 25, 'country': 'USA'}\n"
          ]
        }
      ]
    },
    {
      "cell_type": "code",
      "source": [
        "# Write a code to access the value associated with the key \"name\" in the dictionary {'name': 'Alice', 'age': 30}.\n",
        "# Define the dictionary\n",
        "my_dict = {'name': 'Alice', 'age': 30}\n",
        "\n",
        "# Access the value associated with the key \"name\"\n",
        "name_value = my_dict[\"name\"]\n",
        "\n",
        "# Print the value\n",
        "print(\"The value associated with 'name' is:\", name_value)"
      ],
      "metadata": {
        "colab": {
          "base_uri": "https://localhost:8080/"
        },
        "id": "u8RtN4OAtfw7",
        "outputId": "335d9878-81c0-45fc-fdf6-e95a9ff2471e"
      },
      "execution_count": 24,
      "outputs": [
        {
          "output_type": "stream",
          "name": "stdout",
          "text": [
            "The value associated with 'name' is: Alice\n"
          ]
        }
      ]
    },
    {
      "cell_type": "code",
      "source": [
        "# Write a code to remove the key \"age\" from the dictionary {'name': 'Bob', 'age': 22, 'city': 'New York'}.\n",
        "# Define the dictionary\n",
        "my_dict = {'name': 'Bob', 'age': 22, 'city': 'New York'}\n",
        "\n",
        "# Remove the key \"age\" from the dictionary\n",
        "my_dict.pop('age')\n",
        "\n",
        "# Print the updated dictionary\n",
        "print(\"Updated dictionary:\", my_dict)"
      ],
      "metadata": {
        "colab": {
          "base_uri": "https://localhost:8080/"
        },
        "id": "FcfTdBfUtl9y",
        "outputId": "c9e24600-a4f2-4a21-d77e-226bab8fb72d"
      },
      "execution_count": 25,
      "outputs": [
        {
          "output_type": "stream",
          "name": "stdout",
          "text": [
            "Updated dictionary: {'name': 'Bob', 'city': 'New York'}\n"
          ]
        }
      ]
    },
    {
      "cell_type": "code",
      "source": [
        "# Write a code to check if the key \"city\" exists in the dictionary {'name': 'Alice', 'city': 'Paris'}.\n",
        "# Define the dictionary\n",
        "my_dict = {'name': 'Alice', 'city': 'Paris'}\n",
        "\n",
        "# Check if the key \"city\" exists in the dictionary\n",
        "if \"city\" in my_dict:\n",
        "    print(\"The key 'city' exists in the dictionary.\")\n",
        "else:\n",
        "    print(\"The key 'city' does not exist in the dictionary.\")"
      ],
      "metadata": {
        "colab": {
          "base_uri": "https://localhost:8080/"
        },
        "id": "aa3dr24Ityk9",
        "outputId": "4c69ff74-78c4-4c95-be6b-a1083af258f4"
      },
      "execution_count": 26,
      "outputs": [
        {
          "output_type": "stream",
          "name": "stdout",
          "text": [
            "The key 'city' exists in the dictionary.\n"
          ]
        }
      ]
    },
    {
      "cell_type": "code",
      "source": [
        "# Write a code to create a list, a tuple, and a dictionary, and print them all\n",
        "# Create a list\n",
        "my_list = [1, 2, 3, 4, 5]\n",
        "\n",
        "# Create a tuple\n",
        "my_tuple = ('apple', 'banana', 'cherry')\n",
        "\n",
        "# Create a dictionary\n",
        "my_dict = {'name': 'Alice', 'age': 30, 'city': 'New York'}\n",
        "\n",
        "# Print the list, tuple, and dictionary\n",
        "print(\"List:\", my_list)\n",
        "print(\"Tuple:\", my_tuple)\n",
        "print(\"Dictionary:\", my_dict)"
      ],
      "metadata": {
        "colab": {
          "base_uri": "https://localhost:8080/"
        },
        "id": "XCbHyk7rt6Xh",
        "outputId": "4ffd6aba-6e95-422a-91d0-506276e33365"
      },
      "execution_count": 27,
      "outputs": [
        {
          "output_type": "stream",
          "name": "stdout",
          "text": [
            "List: [1, 2, 3, 4, 5]\n",
            "Tuple: ('apple', 'banana', 'cherry')\n",
            "Dictionary: {'name': 'Alice', 'age': 30, 'city': 'New York'}\n"
          ]
        }
      ]
    },
    {
      "cell_type": "code",
      "source": [
        "# Write a code to create a list of 5 random numbers between 1 and 100, sort it in ascending order, and print the result.(replaced)\n",
        "\n",
        "import random\n",
        "\n",
        "# Create a list of 5 random numbers between 1 and 100\n",
        "random_numbers = [random.randint(1, 100) for _ in range(5)]\n",
        "\n",
        "# Sort the list in ascending order\n",
        "random_numbers.sort()\n",
        "\n",
        "# Print the sorted list\n",
        "print(\"Sorted list of random numbers:\", random_numbers)"
      ],
      "metadata": {
        "colab": {
          "base_uri": "https://localhost:8080/"
        },
        "id": "ngvME3QvuFY5",
        "outputId": "12d656ff-c784-4ecd-a87a-883e12092bd6"
      },
      "execution_count": 34,
      "outputs": [
        {
          "output_type": "stream",
          "name": "stdout",
          "text": [
            "Sorted list of random numbers: [7, 22, 44, 47, 59]\n"
          ]
        }
      ]
    },
    {
      "cell_type": "code",
      "source": [
        "# Write a code to create a list with strings and print the element at the third index.\n",
        "# Create a list with strings\n",
        "my_list = [\"apple\", \"banana\", \"cherry\", \"date\", \"elderberry\"]\n",
        "\n",
        "# Print the element at the third index (index starts from 0)\n",
        "print(\"Element at the third index:\", my_list[3])"
      ],
      "metadata": {
        "colab": {
          "base_uri": "https://localhost:8080/"
        },
        "id": "OxIUJIxTu_E2",
        "outputId": "9fb1ee0a-68d5-42d4-9484-c4ac916d2552"
      },
      "execution_count": 35,
      "outputs": [
        {
          "output_type": "stream",
          "name": "stdout",
          "text": [
            "Element at the third index: date\n"
          ]
        }
      ]
    },
    {
      "cell_type": "code",
      "source": [
        "# Write a code to combine two dictionaries into one and print the result.\n",
        "# Define two dictionaries\n",
        "dict1 = {\"a\": 1, \"b\": 2}\n",
        "dict2 = {\"c\": 3, \"d\": 4}\n",
        "\n",
        "# Combine the dictionaries using the `update()` method\n",
        "dict1.update(dict2)\n",
        "\n",
        "# Print the combined dictionary\n",
        "print(dict1)"
      ],
      "metadata": {
        "colab": {
          "base_uri": "https://localhost:8080/"
        },
        "id": "k0ZsYgQlvTYM",
        "outputId": "58d218ca-ce52-4393-dc52-8e9ffbeeb089"
      },
      "execution_count": 36,
      "outputs": [
        {
          "output_type": "stream",
          "name": "stdout",
          "text": [
            "{'a': 1, 'b': 2, 'c': 3, 'd': 4}\n"
          ]
        }
      ]
    },
    {
      "cell_type": "code",
      "source": [
        " # Write a code to convert a list of strings into a set.\n",
        " # List of strings\n",
        "list_of_strings = [\"apple\", \"banana\", \"cherry\", \"apple\", \"banana\"]\n",
        "\n",
        "# Convert the list to a set\n",
        "set_of_strings = set(list_of_strings)\n",
        "\n",
        "# Print the set\n",
        "print(set_of_strings)"
      ],
      "metadata": {
        "colab": {
          "base_uri": "https://localhost:8080/"
        },
        "id": "6xN9LpPIvaO5",
        "outputId": "fbf656f8-3103-4bcd-f746-f3b10ff9ccde"
      },
      "execution_count": 37,
      "outputs": [
        {
          "output_type": "stream",
          "name": "stdout",
          "text": [
            "{'cherry', 'banana', 'apple'}\n"
          ]
        }
      ]
    }
  ]
}